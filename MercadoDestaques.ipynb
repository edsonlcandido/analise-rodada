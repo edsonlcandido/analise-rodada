{
 "cells": [
  {
   "cell_type": "code",
   "execution_count": 15,
   "metadata": {},
   "outputs": [],
   "source": [
    "import pandas as pd\n",
    "import requests\n",
    "import json\n",
    "url = \"https://api.cartola.globo.com/atletas/mercado\"\n",
    "response = requests.get(url)\n",
    "json_data = response.json()"
   ]
  },
  {
   "cell_type": "code",
   "execution_count": 16,
   "metadata": {},
   "outputs": [],
   "source": [
    "data_dict = json.loads(response.text)"
   ]
  },
  {
   "cell_type": "code",
   "execution_count": 17,
   "metadata": {},
   "outputs": [],
   "source": [
    "atletas_df = pd.json_normalize(data_dict[\"atletas\"])"
   ]
  },
  {
   "cell_type": "code",
   "execution_count": 18,
   "metadata": {},
   "outputs": [],
   "source": [
    "clubes_df = pd.DataFrame.from_dict(data_dict[\"clubes\"], orient='index')\n",
    "clubes_df.rename(columns={'id': 'clube_id'}, inplace=True)"
   ]
  },
  {
   "cell_type": "code",
   "execution_count": 19,
   "metadata": {},
   "outputs": [],
   "source": [
    "posicoes_df = pd.DataFrame.from_dict(data_dict[\"posicoes\"], orient='index')\n",
    "posicoes_df.rename(columns={'id': 'posicao_id'}, inplace=True)"
   ]
  },
  {
   "cell_type": "code",
   "execution_count": 20,
   "metadata": {},
   "outputs": [],
   "source": [
    "status_df = pd.DataFrame.from_dict(data_dict[\"status\"], orient='index')\n",
    "status_df.rename(columns={'id': 'status_id'}, inplace=True)"
   ]
  },
  {
   "cell_type": "code",
   "execution_count": 21,
   "metadata": {},
   "outputs": [],
   "source": [
    "rodada_atual = atletas_df.loc[0,'rodada_id']\n",
    "partidas_response = requests.get('https://api.cartola.globo.com/partidas/'+str(rodada_atual))\n",
    "partidas_json_data = partidas_response.json()\n",
    "partidas_df = pd.json_normalize(partidas_json_data[\"partidas\"])"
   ]
  },
  {
   "cell_type": "code",
   "execution_count": 25,
   "metadata": {},
   "outputs": [],
   "source": [
    "# Adicionar uma nova coluna 'é_mandante' no clubes_df\n",
    "clubes_df['mandante'] = clubes_df['clube_id'].isin(partidas_df['clube_casa_id'])\n",
    "\n",
    "# Função para determinar se a posição do clube é maior ou menor que a do adversário\n",
    "def comparar_posicao(clube_id, partidas_df):\n",
    "    for _, row in partidas_df.iterrows():\n",
    "        if row['clube_casa_id'] == clube_id:\n",
    "            return 'maior' if row['clube_casa_posicao'] > row['clube_visitante_posicao'] else 'menor'\n",
    "        elif row['clube_visitante_id'] == clube_id:\n",
    "            return 'maior' if row['clube_visitante_posicao'] > row['clube_casa_posicao'] else 'menor'\n",
    "    return 'N/A'\n",
    "\n",
    "# Adicionar a nova coluna no clubes_df\n",
    "clubes_df['posicao_comparada'] = clubes_df['clube_id'].apply(lambda x: comparar_posicao(x, partidas_df))\n"
   ]
  }
 ],
 "metadata": {
  "kernelspec": {
   "display_name": "base",
   "language": "python",
   "name": "python3"
  },
  "language_info": {
   "codemirror_mode": {
    "name": "ipython",
    "version": 3
   },
   "file_extension": ".py",
   "mimetype": "text/x-python",
   "name": "python",
   "nbconvert_exporter": "python",
   "pygments_lexer": "ipython3",
   "version": "3.12.4"
  }
 },
 "nbformat": 4,
 "nbformat_minor": 2
}
