{
 "cells": [
  {
   "cell_type": "code",
   "execution_count": 12,
   "id": "881c98d3-39ac-4c42-ae8f-05d5abe3c60c",
   "metadata": {},
   "outputs": [
    {
     "name": "stdout",
     "output_type": "stream",
     "text": [
      "['atleta_minimo_para_valorizar', 'atleta_jogos_num', 'atleta_atleta_id', 'atleta_rodada_id', 'atleta_clube_id', 'atleta_posicao_id', 'atleta_status_id', 'atleta_pontos_num', 'atleta_media_num', 'atleta_variacao_num', 'atleta_preco_num', 'atleta_entrou_em_campo', 'atleta_slug', 'atleta_apelido', 'atleta_apelido_abreviado', 'atleta_nome', 'atleta_foto', 'atleta_scout.DE', 'atleta_scout.FS', 'atleta_scout.GS', 'atleta_scout.SG', 'atleta_gato_mestre.scouts.media', 'atleta_gato_mestre.scouts.mandante', 'atleta_gato_mestre.scouts.visitante', 'atleta_gato_mestre.media_pontos_mandante', 'atleta_gato_mestre.media_pontos_visitante', 'atleta_gato_mestre.media_minutos_jogados', 'atleta_gato_mestre.minutos_jogados', 'atleta_scout.CA', 'atleta_scout.A', 'atleta_scout.DS', 'atleta_scout.FC', 'atleta_scout.FD', 'atleta_scout.FF', 'atleta_scout.FT', 'atleta_scout.I', 'atleta_scout.CV', 'atleta_scout.G', 'atleta_scout.PS', 'atleta_scout.V', 'atleta_scout.PP', 'atleta_scout.PC', 'atleta_scout.DP', 'atleta_scout.GC']\n",
      "['clube_escudos', 'clube_nome', 'clube_abreviacao', 'clube_slug', 'clube_apelido', 'clube_nome_fantasia', 'clube_id', 'clube_url_editoria']\n",
      "['posicao_id', 'posicao_nome', 'posicao_abreviacao']\n",
      "['status_nome', 'status_id']\n",
      "['aproveitamento_visitante', 'aproveitamento_mandante', 'local', 'status_transmissao_tr', 'status_cronometro_tr', 'periodo_tr', 'partida_data', 'inicio_cronometro_tr', 'placar_oficial_visitante', 'placar_oficial_mandante', 'partida_id', 'clube_visitante_posicao', 'clube_visitante_id', 'clube_casa_posicao', 'clube_casa_id', 'timestamp', 'campeonato_id', 'valida', 'transmissao.label', 'transmissao.url']\n",
      "['aproveitamento_visitante', 'aproveitamento_mandante', 'local', 'status_transmissao_tr', 'status_cronometro_tr', 'periodo_tr', 'partida_data', 'inicio_cronometro_tr', 'placar_oficial_visitante', 'placar_oficial_mandante', 'partida_id', 'clube_visitante_posicao', 'clube_visitante_id', 'clube_casa_posicao', 'clube_casa_id', 'timestamp', 'campeonato_id', 'valida', 'transmissao.label', 'transmissao.url', 'casa_clube_escudos', 'casa_clube_nome', 'casa_clube_abreviacao', 'casa_clube_slug', 'casa_clube_apelido', 'casa_clube_nome_fantasia', 'casa_clube_id', 'casa_clube_url_editoria', 'visitante_clube_escudos', 'visitante_clube_nome', 'visitante_clube_abreviacao', 'visitante_clube_slug', 'visitante_clube_apelido', 'visitante_clube_nome_fantasia', 'visitante_clube_id', 'visitante_clube_url_editoria', 'confronto_slug']\n"
     ]
    }
   ],
   "source": [
    "import pandas as pd\n",
    "import requests\n",
    "import json\n",
    "pd.options.mode.copy_on_write = True\n",
    "url = \"https://api.cartola.globo.com/atletas/mercado\"\n",
    "response = requests.get(url)\n",
    "json_data = response.json()\n",
    "data_dict = json.loads(response.text)\n",
    "atletas_df = pd.json_normalize(data_dict[\"atletas\"],max_level=2)\n",
    "atletas_df=atletas_df.add_prefix('atleta_')\n",
    "print(atletas_df.columns.tolist())\n",
    "atletas_df = atletas_df.rename(columns={'atleta_atleta_id':'atleta_id',\n",
    "                                        'atleta_clube_id': 'clube_id',\n",
    "                                        'atleta_posicao_id':'posicao_id',\n",
    "                                        'atleta_status_id':'status_id'})\n",
    "\n",
    "# Create the clubes DataFrame\n",
    "clubes_df = pd.DataFrame.from_dict(data_dict[\"clubes\"], orient='index')\n",
    "clubes_df=clubes_df.add_prefix('clube_')\n",
    "print(clubes_df.columns.tolist())\n",
    "\n",
    "# Create the posicoes DataFrame\n",
    "posicoes_df = pd.DataFrame.from_dict(data_dict[\"posicoes\"], orient='index')\n",
    "posicoes_df=posicoes_df.add_prefix('posicao_')\n",
    "print(posicoes_df.columns.tolist())\n",
    "\n",
    "#Create the status dataframe\n",
    "status_df=pd.DataFrame.from_dict(data_dict[\"status\"], orient='index')\n",
    "status_df=status_df.add_prefix('status_')\n",
    "print(status_df.columns.tolist())\n",
    "\n",
    "colunas = ['atleta_apelido','clube_abreviacao','posicao_abreviacao','status_nome', 'atleta_preco_num']\n",
    "\n",
    "partidas_response = requests.get('https://api.cartola.globo.com/partidas')\n",
    "partidas_json_data = partidas_response.json()\n",
    "partidas_df = pd.json_normalize(partidas_json_data[\"partidas\"],max_level=1)\n",
    "print(partidas_df.columns.tolist())\n",
    "confrontos_df = partidas_df.merge(clubes_df.add_prefix('casa_'), left_on='clube_casa_id', right_on='casa_clube_id')\n",
    "confrontos_df = confrontos_df.merge(clubes_df.add_prefix('visitante_'), left_on='clube_visitante_id', right_on='visitante_clube_id')\n",
    "confrontos_df['confronto_slug'] = confrontos_df['casa_clube_abreviacao'] + ' X ' + confrontos_df['visitante_clube_abreviacao']\n",
    "print(confrontos_df.columns.tolist())"
   ]
  },
  {
   "cell_type": "code",
   "execution_count": 13,
   "id": "1a8cb4b7-67f6-446e-bdc3-e97c09c22171",
   "metadata": {},
   "outputs": [
    {
     "name": "stdout",
     "output_type": "stream",
     "text": [
      "    confronto_slug\n",
      "0        CRU X VAS\n",
      "1        PAL X CAM\n",
      "2        CRU X VAS\n",
      "3        PAL X CAM\n",
      "4        FLA X CAP\n",
      "..             ...\n",
      "775      CRU X VAS\n",
      "776      PAL X CAM\n",
      "777      SAO X COR\n",
      "778      SAO X COR\n",
      "779      CRU X VAS\n",
      "\n",
      "[780 rows x 1 columns]\n"
     ]
    }
   ],
   "source": [
    "df = atletas_df.merge(posicoes_df, left_on='posicao_id',right_on='posicao_id')\n",
    "df = df.merge(clubes_df, left_on='clube_id', right_on='clube_id')\n",
    "df = df.merge(status_df, left_on='status_id', right_on='status_id')\n",
    "df = df.merge(confrontos_df, how='left', left_on=['clube_id'], right_on=['clube_casa_id'])\n",
    "df = df.merge(confrontos_df, how='left', left_on=['clube_id'], right_on=['clube_visitante_id'])\n",
    "df['confronto_slug'] = df['confronto_slug_y'].fillna('') + '' + df['confronto_slug_x'].fillna('')\n",
    "print(df[['confronto_slug']])"
   ]
  },
  {
   "cell_type": "code",
   "execution_count": 14,
   "id": "f95f2b32-4320-4598-a6a9-cf30806bc13a",
   "metadata": {},
   "outputs": [
    {
     "name": "stdout",
     "output_type": "stream",
     "text": [
      "      atleta_apelido clube_abreviacao posicao_abreviacao status_nome  \\\n",
      "0         Léo Jardim              VAS                gol    Provável   \n",
      "1            Everson              CAM                gol    Provável   \n",
      "2              Payet              VAS                mei    Provável   \n",
      "3           Paulinho              CAM                ata    Provável   \n",
      "4          Mastriani              CAP                ata    Provável   \n",
      "..               ...              ...                ...         ...   \n",
      "767         Carrillo              JUV                ata    Provável   \n",
      "770           Almada              BOT                mei    Provável   \n",
      "771  Felipe Anderson              PAL                mei    Provável   \n",
      "776          Bernard              CAM                mei    Provável   \n",
      "778    André Ramalho              COR                zag    Provável   \n",
      "\n",
      "     atleta_preco_num  \n",
      "0                6.07  \n",
      "1                8.08  \n",
      "2                5.62  \n",
      "3               10.12  \n",
      "4                6.75  \n",
      "..                ...  \n",
      "767              4.60  \n",
      "770              7.05  \n",
      "771              9.29  \n",
      "776              5.86  \n",
      "778              5.54  \n",
      "\n",
      "[232 rows x 5 columns]\n"
     ]
    }
   ],
   "source": [
    "df_filtrado = df[df['status_nome'] == 'Provável']\n",
    "print(df_filtrado[colunas])"
   ]
  },
  {
   "cell_type": "code",
   "execution_count": 15,
   "id": "147f66e5-fdd0-46f8-9c13-8fb219b71ec1",
   "metadata": {},
   "outputs": [
    {
     "name": "stdout",
     "output_type": "stream",
     "text": [
      "['atleta_minimo_para_valorizar', 'atleta_jogos_num', 'atleta_id', 'atleta_rodada_id', 'clube_id', 'posicao_id', 'status_id', 'atleta_pontos_num', 'atleta_media_num', 'atleta_variacao_num', 'atleta_preco_num', 'atleta_entrou_em_campo', 'atleta_slug', 'atleta_apelido', 'atleta_apelido_abreviado', 'atleta_nome', 'atleta_foto', 'atleta_scout.DE', 'atleta_scout.FS', 'atleta_scout.GS', 'atleta_scout.SG', 'atleta_gato_mestre.scouts.media', 'atleta_gato_mestre.scouts.mandante', 'atleta_gato_mestre.scouts.visitante', 'atleta_gato_mestre.media_pontos_mandante', 'atleta_gato_mestre.media_pontos_visitante', 'atleta_gato_mestre.media_minutos_jogados', 'atleta_gato_mestre.minutos_jogados', 'atleta_scout.CA', 'atleta_scout.A', 'atleta_scout.DS', 'atleta_scout.FC', 'atleta_scout.FD', 'atleta_scout.FF', 'atleta_scout.FT', 'atleta_scout.I', 'atleta_scout.CV', 'atleta_scout.G', 'atleta_scout.PS', 'atleta_scout.V', 'atleta_scout.PP', 'atleta_scout.PC', 'atleta_scout.DP', 'atleta_scout.GC', 'posicao_nome', 'posicao_abreviacao', 'clube_escudos', 'clube_nome', 'clube_abreviacao', 'clube_slug', 'clube_apelido', 'clube_nome_fantasia', 'clube_url_editoria', 'status_nome', 'aproveitamento_visitante_x', 'aproveitamento_mandante_x', 'local_x', 'status_transmissao_tr_x', 'status_cronometro_tr_x', 'periodo_tr_x', 'partida_data_x', 'inicio_cronometro_tr_x', 'placar_oficial_visitante_x', 'placar_oficial_mandante_x', 'partida_id_x', 'clube_visitante_posicao_x', 'clube_visitante_id_x', 'clube_casa_posicao_x', 'clube_casa_id_x', 'timestamp_x', 'campeonato_id_x', 'valida_x', 'transmissao.label_x', 'transmissao.url_x', 'casa_clube_escudos_x', 'casa_clube_nome_x', 'casa_clube_abreviacao_x', 'casa_clube_slug_x', 'casa_clube_apelido_x', 'casa_clube_nome_fantasia_x', 'casa_clube_id_x', 'casa_clube_url_editoria_x', 'visitante_clube_escudos_x', 'visitante_clube_nome_x', 'visitante_clube_abreviacao_x', 'visitante_clube_slug_x', 'visitante_clube_apelido_x', 'visitante_clube_nome_fantasia_x', 'visitante_clube_id_x', 'visitante_clube_url_editoria_x', 'confronto_slug_x', 'aproveitamento_visitante_y', 'aproveitamento_mandante_y', 'local_y', 'status_transmissao_tr_y', 'status_cronometro_tr_y', 'periodo_tr_y', 'partida_data_y', 'inicio_cronometro_tr_y', 'placar_oficial_visitante_y', 'placar_oficial_mandante_y', 'partida_id_y', 'clube_visitante_posicao_y', 'clube_visitante_id_y', 'clube_casa_posicao_y', 'clube_casa_id_y', 'timestamp_y', 'campeonato_id_y', 'valida_y', 'transmissao.label_y', 'transmissao.url_y', 'casa_clube_escudos_y', 'casa_clube_nome_y', 'casa_clube_abreviacao_y', 'casa_clube_slug_y', 'casa_clube_apelido_y', 'casa_clube_nome_fantasia_y', 'casa_clube_id_y', 'casa_clube_url_editoria_y', 'visitante_clube_escudos_y', 'visitante_clube_nome_y', 'visitante_clube_abreviacao_y', 'visitante_clube_slug_y', 'visitante_clube_apelido_y', 'visitante_clube_nome_fantasia_y', 'visitante_clube_id_y', 'visitante_clube_url_editoria_y', 'confronto_slug_y', 'confronto_slug']\n"
     ]
    }
   ],
   "source": [
    "print(df_filtrado.columns.tolist())"
   ]
  },
  {
   "cell_type": "code",
   "execution_count": 16,
   "id": "a75c74e0-87aa-4055-b07f-df0cc3dbc7b8",
   "metadata": {},
   "outputs": [
    {
     "name": "stdout",
     "output_type": "stream",
     "text": [
      "posicao_id\n",
      "1    3.899000\n",
      "2    3.709362\n",
      "3    2.868043\n",
      "4    2.832222\n",
      "5    3.315730\n",
      "6    4.953889\n",
      "Name: atleta_media_num, dtype: float64\n"
     ]
    }
   ],
   "source": [
    "# prompt: gere uma analises das medias de cada posicao_id onde a coluna atleta_media_num seja diferente de 0 e mostre a media de cada posicao\n",
    "\n",
    "# Create a new dataframe with only the relevant columns\n",
    "df_analise = df[['posicao_id', 'atleta_media_num','atleta_entrou_em_campo']]\n",
    "\n",
    "# Filter out rows where atleta_media_num is 0\n",
    "df_analise = df_analise[df_analise['atleta_entrou_em_campo'] == True]\n",
    "\n",
    "# Group the dataframe by posicao_id and calculate the mean of atleta_media_num\n",
    "medias_posicao = df_analise.groupby('posicao_id')['atleta_media_num'].mean()\n",
    "\n",
    "# Print the results\n",
    "print(medias_posicao)"
   ]
  },
  {
   "cell_type": "code",
   "execution_count": 17,
   "id": "e695f9b6-b25e-4711-a458-fe37067737e4",
   "metadata": {},
   "outputs": [
    {
     "name": "stdout",
     "output_type": "stream",
     "text": [
      "clube_abreviacao\n",
      "BOT    3.990000\n",
      "PAL    3.967647\n",
      "GRE    3.794118\n",
      "CRU    3.653750\n",
      "FOR    3.563529\n",
      "INT    3.532941\n",
      "SAO    3.441176\n",
      "JUV    3.432941\n",
      "COR    3.334118\n",
      "CAM    3.266471\n",
      "BAH    3.238235\n",
      "VAS    3.182353\n",
      "VIT    3.071765\n",
      "CRI    3.025882\n",
      "FLU    2.919444\n",
      "CAP    2.913125\n",
      "BGT    2.884118\n",
      "FLA    2.884000\n",
      "ACG    2.632353\n",
      "CUI    2.433750\n",
      "Name: atleta_media_num, dtype: float64\n"
     ]
    }
   ],
   "source": [
    "# prompt: gere uma media dos clubes usando a coluna clube_abreviacao a media devera ser o atleta_media_num diferente de 0 ordene pela media descendente\n",
    "\n",
    "# Create a new dataframe with only the relevant columns\n",
    "df_analise = df[['clube_abreviacao', 'atleta_media_num','atleta_entrou_em_campo']]\n",
    "\n",
    "# Filter out rows where atleta_media_num is 0\n",
    "df_analise = df_analise[df_analise['atleta_entrou_em_campo'] == True]\n",
    "\n",
    "# Group the dataframe by clube_abreviacao and calculate the mean of atleta_media_num\n",
    "medias_clube = df_analise.groupby('clube_abreviacao')['atleta_media_num'].mean()\n",
    "\n",
    "# Sort the results in descending order\n",
    "medias_clube = medias_clube.sort_values(ascending=False)\n",
    "\n",
    "# Print the results\n",
    "print(medias_clube)"
   ]
  },
  {
   "cell_type": "markdown",
   "id": "bb350676-4a7b-447c-8623-9d7c74ee46e9",
   "metadata": {},
   "source": [
    "# Estudos\n",
    "posicao_id | posicao_nome | posicao_abreviacao\n",
    "- | -| -\n",
    "1 | Goleiro | gol\n",
    "2 | Lateral | lat\n",
    "3 | Zagueiro | zag\n",
    "4 | Meia | mei\n",
    "5 | Atacante | ata\n",
    "6 | Técnico | tec"
   ]
  },
  {
   "cell_type": "markdown",
   "id": "2d676786-e02e-45ff-aa6a-51f6c3de1f4b",
   "metadata": {},
   "source": [
    "## Atacante"
   ]
  },
  {
   "cell_type": "code",
   "execution_count": 18,
   "id": "102b0938-e14f-4211-bc17-cb15ce8d7a9a",
   "metadata": {},
   "outputs": [
    {
     "name": "stdout",
     "output_type": "stream",
     "text": [
      "    atleta_apelido clube_abreviacao confronto_slug  atleta_media_num  \\\n",
      "609  William Gomes              SAO      SAO X COR              5.13   \n",
      "94   Luiz Fernando              ACG      ACG X FLU              4.66   \n",
      "9          Vegetti              VAS      CRU X VAS              6.04   \n",
      "452          Serna              FLU      ACG X FLU              5.15   \n",
      "757     Igor Jesus              BOT      BOT X GRE              6.02   \n",
      "53         Soteldo              GRE      BOT X GRE              4.62   \n",
      "165  Eduardo Sasha              BGT      JUV X BGT              4.42   \n",
      "624        Bolasie              CRI      BAH X CRI              5.75   \n",
      "367          Borré              INT      INT X VIT              6.79   \n",
      "193   Yuri Alberto              COR      SAO X COR              4.93   \n",
      "374         Wesley              INT      INT X VIT              6.63   \n",
      "478    Braithwaite              GRE      BOT X GRE              9.50   \n",
      "5             Hulk              CAM      PAL X CAM              8.13   \n",
      "39     Flaco López              PAL      PAL X CAM              5.18   \n",
      "139       Everaldo              BAH      BAH X CRI              5.14   \n",
      "26   Luiz Henrique              BOT      BOT X GRE              5.63   \n",
      "188   Ángel Romero              COR      SAO X COR              4.29   \n",
      "\n",
      "    atleta_apelido  atleta_pontos_num posicao_abreviacao  atleta_scout.G  \n",
      "609  William Gomes               -1.3                ata             2.0  \n",
      "94   Luiz Fernando               -1.1                ata             6.0  \n",
      "9          Vegetti                1.2                ata             8.0  \n",
      "452          Serna                1.2                ata             1.0  \n",
      "757     Igor Jesus                1.4                ata             4.0  \n",
      "53         Soteldo                3.0                ata             3.0  \n",
      "165  Eduardo Sasha                3.6                ata             3.0  \n",
      "624        Bolasie                3.6                ata             6.0  \n",
      "367          Borré                5.9                ata             5.0  \n",
      "193   Yuri Alberto                6.5                ata             4.0  \n",
      "374         Wesley                8.9                ata             5.0  \n",
      "478    Braithwaite                9.4                ata             4.0  \n",
      "5             Hulk                9.5                ata             8.0  \n",
      "39     Flaco López               11.4                ata             9.0  \n",
      "139       Everaldo               11.4                ata             8.0  \n",
      "26   Luiz Henrique               11.8                ata             6.0  \n",
      "188   Ángel Romero               22.2                ata             5.0  \n"
     ]
    }
   ],
   "source": [
    "import numpy as np\n",
    "colunas_relatorio = ['atleta_apelido','clube_abreviacao','confronto_slug','atleta_media_num','atleta_apelido','atleta_pontos_num', 'posicao_abreviacao', 'atleta_scout.G']\n",
    "posicao_id = 5 #atacante\n",
    "df_analise = df_filtrado[df_filtrado['posicao_id'] == posicao_id]\n",
    "medias_posicao = df_analise['atleta_media_num'].mean()\n",
    "df_analise['dif'] = df_analise['atleta_media_num'] - medias_posicao\n",
    "df_analise = df_analise[df_analise['atleta_pontos_num'] != 0]\n",
    "df_analise = df_analise[df_analise['atleta_media_num'] > medias_posicao]\n",
    "df_relatorio = df_analise[colunas_relatorio]\n",
    "df_relatorio = df_relatorio.sort_values(by=['atleta_pontos_num'])\n",
    "print(df_relatorio)"
   ]
  },
  {
   "cell_type": "markdown",
   "id": "b7d24f2d-9eb6-4bea-a9e4-df9def4cc4e7",
   "metadata": {},
   "source": [
    "## Meias"
   ]
  },
  {
   "cell_type": "code",
   "execution_count": 19,
   "id": "d9182077-ebaa-4c14-96af-33c45aaa7671",
   "metadata": {},
   "outputs": [
    {
     "name": "stdout",
     "output_type": "stream",
     "text": [
      "        atleta_apelido clube_abreviacao confronto_slug  atleta_media_num  \\\n",
      "238    Matheus Pereira              CRU      CRU X VAS              5.66   \n",
      "140         Jean Lucas              BAH      BAH X CRI              4.66   \n",
      "135           Thaciano              BAH      BAH X CRI              4.04   \n",
      "6       Gustavo Scarpa              CAM      PAL X CAM              5.92   \n",
      "382             Jadson              JUV      JUV X BGT              4.87   \n",
      "654        Matheusinho              CRI      BAH X CRI              4.61   \n",
      "550            Ronaldo              JUV      JUV X BGT              7.80   \n",
      "50          Villasanti              GRE      BOT X GRE              4.14   \n",
      "289              Ganso              FLU      ACG X FLU              3.45   \n",
      "425          Jhon Jhon              BGT      JUV X BGT              4.13   \n",
      "766           Monsalve              GRE      BOT X GRE              6.99   \n",
      "56     Everton Ribeiro              BAH      BAH X CRI              4.27   \n",
      "466            Charles              COR      SAO X COR              3.90   \n",
      "771    Felipe Anderson              PAL      PAL X CAM              5.58   \n",
      "30   Lucas Evangelista              BGT      JUV X BGT              3.57   \n",
      "323         Pochettino              FOR      FOR X CUI              5.00   \n",
      "527        Matheuzinho              VIT      INT X VIT              5.95   \n",
      "57         Lucas Moura              SAO      SAO X COR              6.35   \n",
      "297              Arias              FLU      ACG X FLU              6.87   \n",
      "47           Cristaldo              GRE      BOT X GRE              4.95   \n",
      "24        Alan Patrick              INT      INT X VIT              4.11   \n",
      "54               Garro              COR      SAO X COR              6.66   \n",
      "\n",
      "        atleta_apelido  atleta_pontos_num posicao_abreviacao  atleta_scout.G  \n",
      "238    Matheus Pereira                1.0                mei             5.0  \n",
      "140         Jean Lucas                1.0                mei             2.0  \n",
      "135           Thaciano                1.0                mei             6.0  \n",
      "6       Gustavo Scarpa                1.2                mei             4.0  \n",
      "382             Jadson                1.4                mei             1.0  \n",
      "654        Matheusinho                1.5                mei             4.0  \n",
      "550            Ronaldo                1.6                mei             1.0  \n",
      "50          Villasanti                1.9                mei             1.0  \n",
      "289              Ganso                2.2                mei             3.0  \n",
      "425          Jhon Jhon                2.4                mei             1.0  \n",
      "766           Monsalve                2.9                mei             3.0  \n",
      "56     Everton Ribeiro                3.1                mei             2.0  \n",
      "466            Charles                3.6                mei             NaN  \n",
      "771    Felipe Anderson                4.0                mei             2.0  \n",
      "30   Lucas Evangelista                4.5                mei             2.0  \n",
      "323         Pochettino                6.1                mei             5.0  \n",
      "527        Matheuzinho                7.1                mei             4.0  \n",
      "57         Lucas Moura                7.2                mei             5.0  \n",
      "297              Arias                8.3                mei             3.0  \n",
      "47           Cristaldo               10.4                mei             5.0  \n",
      "24        Alan Patrick               11.2                mei             3.0  \n",
      "54               Garro               17.1                mei             5.0  \n"
     ]
    }
   ],
   "source": [
    "# prompt: quero obter do dataframe_filtrado todos os jogadores que possuem atleta_media_num acima da media da atleta _posicao_id onde o atleta_variacao seja < 0 ordene pela atleta_variacao_num\n",
    "\n",
    "posicao_id = 4 #meias\n",
    "df_analise = df_filtrado[df_filtrado['posicao_id'] == posicao_id]\n",
    "medias_posicao = df_analise['atleta_media_num'].mean()\n",
    "df_analise['dif'] = df_analise['atleta_media_num'] - medias_posicao\n",
    "df_analise = df_analise[df_analise['atleta_pontos_num'] != 0]\n",
    "df_analise = df_analise[df_analise['atleta_media_num'] > medias_posicao]\n",
    "df_relatorio = df_analise[colunas_relatorio]\n",
    "df_relatorio = df_relatorio.sort_values(by=['atleta_pontos_num'])\n",
    "print(df_relatorio)"
   ]
  },
  {
   "cell_type": "markdown",
   "id": "510b2331-7b26-4b1e-81f4-ede2baad5b18",
   "metadata": {},
   "source": [
    "## Zagueiros"
   ]
  },
  {
   "cell_type": "code",
   "execution_count": 20,
   "id": "583690c3-7efb-4726-9a3b-eb872eb38a21",
   "metadata": {},
   "outputs": [
    {
     "name": "stdout",
     "output_type": "stream",
     "text": [
      "        atleta_apelido clube_abreviacao confronto_slug  atleta_media_num  \\\n",
      "144     Gabriel Xavier              BAH      BAH X CRI              3.56   \n",
      "101    Adriano Martins              ACG      ACG X FLU              3.00   \n",
      "370              Vitão              INT      INT X VIT              3.02   \n",
      "92              Bastos              BOT      BOT X GRE              3.93   \n",
      "196               Cacá              COR      SAO X COR              3.43   \n",
      "34              Murilo              PAL      PAL X CAM              4.04   \n",
      "245           Villalba              CRU      CRU X VAS              3.49   \n",
      "543    Wagner Leonardo              VIT      INT X VIT              3.36   \n",
      "157  Alexander Barboza              BOT      BOT X GRE              3.50   \n",
      "763      Junior Alonso              CAM      PAL X CAM              4.55   \n",
      "74        Kaíque Rocha              CAP      FLA X CAP              3.25   \n",
      "324             Brítez              FOR      FOR X CUI              3.37   \n",
      "31       Gustavo Gómez              PAL      PAL X CAM              4.19   \n",
      "\n",
      "        atleta_apelido  atleta_pontos_num posicao_abreviacao  atleta_scout.G  \n",
      "144     Gabriel Xavier                0.9                zag             NaN  \n",
      "101    Adriano Martins                2.4                zag             NaN  \n",
      "370              Vitão                2.6                zag             NaN  \n",
      "92              Bastos                5.0                zag             3.0  \n",
      "196               Cacá                5.0                zag             3.0  \n",
      "34              Murilo                5.2                zag             1.0  \n",
      "245           Villalba                5.9                zag             NaN  \n",
      "543    Wagner Leonardo                5.9                zag             3.0  \n",
      "157  Alexander Barboza                6.2                zag             NaN  \n",
      "763      Junior Alonso                6.8                zag             1.0  \n",
      "74        Kaíque Rocha                7.9                zag             NaN  \n",
      "324             Brítez                8.3                zag             NaN  \n",
      "31       Gustavo Gómez                8.4                zag             1.0  \n"
     ]
    }
   ],
   "source": [
    "posicao_id = 3 #zagueiros\n",
    "df_analise = df_filtrado[df_filtrado['posicao_id'] == posicao_id]\n",
    "medias_posicao = df_analise['atleta_media_num'].mean()\n",
    "df_analise['dif'] = df_analise['atleta_media_num'] - medias_posicao\n",
    "df_analise = df_analise[df_analise['atleta_pontos_num'] != 0]\n",
    "df_analise = df_analise[df_analise['atleta_media_num'] > medias_posicao]\n",
    "df_relatorio = df_analise[colunas_relatorio]\n",
    "df_relatorio = df_relatorio.sort_values(by=['atleta_pontos_num'])\n",
    "print(df_relatorio)"
   ]
  },
  {
   "cell_type": "markdown",
   "id": "94fa6722-d1f3-4a78-9eea-532202cff2f9",
   "metadata": {},
   "source": [
    "## Lateral"
   ]
  },
  {
   "cell_type": "markdown",
   "id": "6ae0bcd5-b39f-4ab5-bd16-96e6979c1373",
   "metadata": {},
   "source": [
    "posicao_id = 2 #laterais\n",
    "df_analise = df_filtrado[df_filtrado['posicao_id'] == posicao_id]\n",
    "medias_posicao = df_analise['atleta_media_num'].mean()\n",
    "df_analise['dif'] = df_analise['atleta_media_num'] - medias_posicao\n",
    "df_analise = df_analise[df_analise['atleta_pontos_num'] != 0]\n",
    "df_analise = df_analise[df_analise['atleta_media_num'] > medias_posicao]\n",
    "df_relatorio = df_analise[colunas_relatorio]\n",
    "df_relatorio = df_relatorio.sort_values(by=['atleta_pontos_num'])\n",
    "print(df_relatorio)"
   ]
  },
  {
   "cell_type": "markdown",
   "id": "a6f647ae-c152-46f7-b0d2-ed54f5c3b345",
   "metadata": {},
   "source": [
    "## Goleiro"
   ]
  },
  {
   "cell_type": "code",
   "execution_count": 21,
   "id": "b5329925-477c-41ef-a2a0-360b53efe9be",
   "metadata": {},
   "outputs": [
    {
     "name": "stdout",
     "output_type": "stream",
     "text": [
      "    atleta_apelido clube_abreviacao confronto_slug  atleta_media_num  \\\n",
      "315   João Ricardo              FOR      FOR X CUI              4.98   \n",
      "334      Marchesín              GRE      BOT X GRE              4.10   \n",
      "133  Marcos Felipe              BAH      BAH X CRI              4.16   \n",
      "284          Fábio              FLU      ACG X FLU              4.28   \n",
      "405       Weverton              PAL      PAL X CAM              5.63   \n",
      "166        Cleiton              BGT      JUV X BGT              3.71   \n",
      "187         Cássio              CRU      CRU X VAS              5.12   \n",
      "733     Hugo Souza              COR      SAO X COR              4.34   \n",
      "472           John              BOT      BOT X GRE              4.47   \n",
      "\n",
      "    atleta_apelido  atleta_pontos_num posicao_abreviacao  atleta_scout.G  \n",
      "315   João Ricardo                2.0                gol             NaN  \n",
      "334      Marchesín                4.0                gol             NaN  \n",
      "133  Marcos Felipe                5.0                gol             NaN  \n",
      "284          Fábio                5.0                gol             NaN  \n",
      "405       Weverton                7.0                gol             NaN  \n",
      "166        Cleiton                8.0                gol             NaN  \n",
      "187         Cássio                9.0                gol             NaN  \n",
      "733     Hugo Souza                9.0                gol             NaN  \n",
      "472           John               11.0                gol             NaN  \n"
     ]
    }
   ],
   "source": [
    "posicao_id = 1 #goleiros\n",
    "df_analise = df_filtrado[df_filtrado['posicao_id'] == posicao_id]\n",
    "medias_posicao = df_analise['atleta_media_num'].mean()\n",
    "df_analise['dif'] = df_analise['atleta_media_num'] - medias_posicao\n",
    "df_analise = df_analise[df_analise['atleta_pontos_num'] != 0]\n",
    "df_analise = df_analise[df_analise['atleta_media_num'] > medias_posicao]\n",
    "df_relatorio = df_analise[colunas_relatorio]\n",
    "df_relatorio = df_relatorio.sort_values(by=['atleta_pontos_num'])\n",
    "print(df_relatorio)"
   ]
  },
  {
   "cell_type": "markdown",
   "id": "07eaa7d4-d9d8-42c5-9fb9-d2444c6e2714",
   "metadata": {},
   "source": [
    "## Técnicos"
   ]
  },
  {
   "cell_type": "code",
   "execution_count": 22,
   "id": "66b7690b-3611-4e4b-abb5-2ab8f0f5a700",
   "metadata": {},
   "outputs": [
    {
     "name": "stdout",
     "output_type": "stream",
     "text": [
      "     atleta_apelido clube_abreviacao confronto_slug  atleta_media_num  \\\n",
      "691    Rafael Paiva              VAS      CRU X VAS              5.51   \n",
      "681   Luis Zubeldía              SAO      SAO X COR              5.10   \n",
      "727    Mano Menezes              FLU      ACG X FLU              5.49   \n",
      "270            Tite              FLA      FLA X CAP              5.39   \n",
      "150    Rogério Ceni              BAH      BAH X CRI              5.19   \n",
      "416   Abel Ferreira              PAL      PAL X CAM              6.47   \n",
      "332    Juan Vojvoda              FOR      FOR X CUI              5.43   \n",
      "383   Roger Machado              INT      INT X VIT              5.14   \n",
      "647     Artur Jorge              BOT      BOT X GRE              5.87   \n",
      "626  Gabriel Milito              CAM      PAL X CAM              4.89   \n",
      "7        Ramón Díaz              COR      SAO X COR              5.22   \n",
      "\n",
      "     atleta_apelido  atleta_pontos_num posicao_abreviacao  atleta_scout.G  \n",
      "691    Rafael Paiva               2.00                tec             NaN  \n",
      "681   Luis Zubeldía               3.25                tec             NaN  \n",
      "727    Mano Menezes               3.50                tec             NaN  \n",
      "270            Tite               3.98                tec             NaN  \n",
      "150    Rogério Ceni               4.45                tec             NaN  \n",
      "416   Abel Ferreira               6.76                tec             NaN  \n",
      "332    Juan Vojvoda               7.40                tec             NaN  \n",
      "383   Roger Machado               7.74                tec             NaN  \n",
      "647     Artur Jorge               8.28                tec             NaN  \n",
      "626  Gabriel Milito               9.25                tec             NaN  \n",
      "7        Ramón Díaz              10.82                tec             NaN  \n"
     ]
    }
   ],
   "source": [
    "posicao_id = 6 #tecnicos\n",
    "df_analise = df_filtrado[df_filtrado['posicao_id'] == posicao_id]\n",
    "medias_posicao = df_analise['atleta_media_num'].mean()\n",
    "df_analise['dif'] = df_analise['atleta_media_num'] - medias_posicao\n",
    "df_analise = df_analise[df_analise['atleta_pontos_num'] != 0]\n",
    "df_analise = df_analise[df_analise['atleta_media_num'] > medias_posicao]\n",
    "df_relatorio = df_analise[colunas_relatorio]\n",
    "df_relatorio = df_relatorio.sort_values(by=['atleta_pontos_num'])\n",
    "print(df_relatorio)"
   ]
  },
  {
   "cell_type": "code",
   "execution_count": null,
   "id": "e69113fb-de37-4807-955a-b4b12e66cabc",
   "metadata": {},
   "outputs": [],
   "source": []
  }
 ],
 "metadata": {
  "kernelspec": {
   "display_name": "Python 3 (ipykernel)",
   "language": "python",
   "name": "python3"
  },
  "language_info": {
   "codemirror_mode": {
    "name": "ipython",
    "version": 3
   },
   "file_extension": ".py",
   "mimetype": "text/x-python",
   "name": "python",
   "nbconvert_exporter": "python",
   "pygments_lexer": "ipython3",
   "version": "3.12.4"
  }
 },
 "nbformat": 4,
 "nbformat_minor": 5
}
