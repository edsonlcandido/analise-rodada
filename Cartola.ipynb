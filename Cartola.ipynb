{
 "cells": [
  {
   "cell_type": "code",
   "execution_count": 33,
   "id": "881c98d3-39ac-4c42-ae8f-05d5abe3c60c",
   "metadata": {},
   "outputs": [
    {
     "name": "stdout",
     "output_type": "stream",
     "text": [
      "['atleta_minimo_para_valorizar', 'atleta_jogos_num', 'atleta_atleta_id', 'atleta_rodada_id', 'atleta_clube_id', 'atleta_posicao_id', 'atleta_status_id', 'atleta_pontos_num', 'atleta_media_num', 'atleta_variacao_num', 'atleta_preco_num', 'atleta_entrou_em_campo', 'atleta_slug', 'atleta_apelido', 'atleta_apelido_abreviado', 'atleta_nome', 'atleta_foto', 'atleta_scout.V', 'atleta_gato_mestre.scouts.media', 'atleta_gato_mestre.scouts.mandante', 'atleta_gato_mestre.scouts.visitante', 'atleta_gato_mestre.media_pontos_mandante', 'atleta_gato_mestre.media_pontos_visitante', 'atleta_gato_mestre.media_minutos_jogados', 'atleta_gato_mestre.minutos_jogados', 'atleta_scout.DE', 'atleta_scout.FS', 'atleta_scout.GS', 'atleta_scout.SG', 'atleta_scout.DS', 'atleta_scout.FC', 'atleta_scout.FD', 'atleta_scout.FF', 'atleta_scout.FT', 'atleta_scout.G', 'atleta_scout.I', 'atleta_scout.A', 'atleta_scout.CA', 'atleta_scout.CV', 'atleta_scout.PS', 'atleta_scout.PP', 'atleta_scout.PC', 'atleta_scout.DP', 'atleta_scout.GC']\n",
      "['clube_escudos', 'clube_nome', 'clube_abreviacao', 'clube_slug', 'clube_apelido', 'clube_nome_fantasia', 'clube_id', 'clube_url_editoria']\n",
      "['posicao_id', 'posicao_nome', 'posicao_abreviacao']\n",
      "['status_nome', 'status_id']\n",
      "['aproveitamento_visitante', 'aproveitamento_mandante', 'local', 'status_transmissao_tr', 'status_cronometro_tr', 'periodo_tr', 'partida_data', 'inicio_cronometro_tr', 'placar_oficial_visitante', 'placar_oficial_mandante', 'partida_id', 'clube_visitante_posicao', 'clube_visitante_id', 'clube_casa_posicao', 'clube_casa_id', 'timestamp', 'campeonato_id', 'valida', 'transmissao.label', 'transmissao.url']\n",
      "['aproveitamento_visitante', 'aproveitamento_mandante', 'local', 'status_transmissao_tr', 'status_cronometro_tr', 'periodo_tr', 'partida_data', 'inicio_cronometro_tr', 'placar_oficial_visitante', 'placar_oficial_mandante', 'partida_id', 'clube_visitante_posicao', 'clube_visitante_id', 'clube_casa_posicao', 'clube_casa_id', 'timestamp', 'campeonato_id', 'valida', 'transmissao.label', 'transmissao.url', 'casa_clube_escudos', 'casa_clube_nome', 'casa_clube_abreviacao', 'casa_clube_slug', 'casa_clube_apelido', 'casa_clube_nome_fantasia', 'casa_clube_id', 'casa_clube_url_editoria', 'visitante_clube_escudos', 'visitante_clube_nome', 'visitante_clube_abreviacao', 'visitante_clube_slug', 'visitante_clube_apelido', 'visitante_clube_nome_fantasia', 'visitante_clube_id', 'visitante_clube_url_editoria', 'confronto_slug']\n"
     ]
    }
   ],
   "source": [
    "import pandas as pd\n",
    "import requests\n",
    "import json\n",
    "pd.options.mode.copy_on_write = True\n",
    "url = \"https://api.cartola.globo.com/atletas/mercado\"\n",
    "response = requests.get(url)\n",
    "json_data = response.json()\n",
    "data_dict = json.loads(response.text)\n",
    "atletas_df = pd.json_normalize(data_dict[\"atletas\"],max_level=2)\n",
    "atletas_df=atletas_df.add_prefix('atleta_')\n",
    "print(atletas_df.columns.tolist())\n",
    "atletas_df = atletas_df.rename(columns={'atleta_atleta_id':'atleta_id',\n",
    "                                        'atleta_clube_id': 'clube_id',\n",
    "                                        'atleta_posicao_id':'posicao_id',\n",
    "                                        'atleta_status_id':'status_id'})\n",
    "\n",
    "# Create the clubes DataFrame\n",
    "clubes_df = pd.DataFrame.from_dict(data_dict[\"clubes\"], orient='index')\n",
    "clubes_df=clubes_df.add_prefix('clube_')\n",
    "print(clubes_df.columns.tolist())\n",
    "\n",
    "# Create the posicoes DataFrame\n",
    "posicoes_df = pd.DataFrame.from_dict(data_dict[\"posicoes\"], orient='index')\n",
    "posicoes_df=posicoes_df.add_prefix('posicao_')\n",
    "print(posicoes_df.columns.tolist())\n",
    "\n",
    "#Create the status dataframe\n",
    "status_df=pd.DataFrame.from_dict(data_dict[\"status\"], orient='index')\n",
    "status_df=status_df.add_prefix('status_')\n",
    "print(status_df.columns.tolist())\n",
    "\n",
    "colunas = ['atleta_apelido','clube_abreviacao','posicao_abreviacao','status_nome', 'atleta_preco_num']\n",
    "\n",
    "partidas_response = requests.get('https://api.cartola.globo.com/partidas')\n",
    "partidas_json_data = partidas_response.json()\n",
    "partidas_df = pd.json_normalize(partidas_json_data[\"partidas\"],max_level=1)\n",
    "print(partidas_df.columns.tolist())\n",
    "confrontos_df = partidas_df.merge(clubes_df.add_prefix('casa_'), left_on='clube_casa_id', right_on='casa_clube_id')\n",
    "confrontos_df = confrontos_df.merge(clubes_df.add_prefix('visitante_'), left_on='clube_visitante_id', right_on='visitante_clube_id')\n",
    "confrontos_df['confronto_slug'] = confrontos_df['casa_clube_abreviacao'] + ' X ' + confrontos_df['visitante_clube_abreviacao']\n",
    "print(confrontos_df.columns.tolist())"
   ]
  },
  {
   "cell_type": "code",
   "execution_count": 34,
   "id": "1a8cb4b7-67f6-446e-bdc3-e97c09c22171",
   "metadata": {},
   "outputs": [
    {
     "name": "stdout",
     "output_type": "stream",
     "text": [
      "    confronto_slug\n",
      "0        BOT X COR\n",
      "1        FLA X VAS\n",
      "2        CAP X FOR\n",
      "3        FLA X VAS\n",
      "4        BAH X CAM\n",
      "..             ...\n",
      "775      BAH X CAM\n",
      "776      BAH X CAM\n",
      "777      BAH X CAM\n",
      "778      BAH X CAM\n",
      "779      BAH X CAM\n",
      "\n",
      "[780 rows x 1 columns]\n"
     ]
    }
   ],
   "source": [
    "df = atletas_df.merge(posicoes_df, left_on='posicao_id',right_on='posicao_id')\n",
    "df = df.merge(clubes_df, left_on='clube_id', right_on='clube_id')\n",
    "df = df.merge(status_df, left_on='status_id', right_on='status_id')\n",
    "df = df.merge(confrontos_df, how='left', left_on=['clube_id'], right_on=['clube_casa_id'])\n",
    "df = df.merge(confrontos_df, how='left', left_on=['clube_id'], right_on=['clube_visitante_id'])\n",
    "df['confronto_slug'] = df['confronto_slug_y'].fillna('') + '' + df['confronto_slug_x'].fillna('')\n",
    "print(df[['confronto_slug']])"
   ]
  },
  {
   "cell_type": "code",
   "execution_count": 35,
   "id": "f95f2b32-4320-4598-a6a9-cf30806bc13a",
   "metadata": {},
   "outputs": [
    {
     "name": "stdout",
     "output_type": "stream",
     "text": [
      "     atleta_apelido clube_abreviacao posicao_abreviacao status_nome  \\\n",
      "0        Ramón Díaz              COR                tec    Provável   \n",
      "1        Léo Jardim              VAS                gol    Provável   \n",
      "2         Mastriani              CAP                ata    Provável   \n",
      "3             Payet              VAS                mei    Provável   \n",
      "4              Hulk              CAM                ata    Provável   \n",
      "..              ...              ...                ...         ...   \n",
      "766      Jean Lucas              BAH                mei    Provável   \n",
      "767    Rogério Ceni              BAH                tec    Provável   \n",
      "770  Gabriel Xavier              BAH                zag    Provável   \n",
      "772    Luciano Juba              BAH                lat    Provável   \n",
      "776  Caio Alexandre              BAH                mei    Provável   \n",
      "\n",
      "     atleta_preco_num  \n",
      "0                8.16  \n",
      "1                7.54  \n",
      "2                7.35  \n",
      "3                6.55  \n",
      "4               16.63  \n",
      "..                ...  \n",
      "766              7.32  \n",
      "767              8.95  \n",
      "770              5.88  \n",
      "772              7.07  \n",
      "776              4.70  \n",
      "\n",
      "[225 rows x 5 columns]\n"
     ]
    }
   ],
   "source": [
    "df_filtrado = df[df['status_nome'] == 'Provável']\n",
    "print(df_filtrado[colunas])"
   ]
  },
  {
   "cell_type": "code",
   "execution_count": 36,
   "id": "147f66e5-fdd0-46f8-9c13-8fb219b71ec1",
   "metadata": {},
   "outputs": [
    {
     "name": "stdout",
     "output_type": "stream",
     "text": [
      "['atleta_minimo_para_valorizar', 'atleta_jogos_num', 'atleta_id', 'atleta_rodada_id', 'clube_id', 'posicao_id', 'status_id', 'atleta_pontos_num', 'atleta_media_num', 'atleta_variacao_num', 'atleta_preco_num', 'atleta_entrou_em_campo', 'atleta_slug', 'atleta_apelido', 'atleta_apelido_abreviado', 'atleta_nome', 'atleta_foto', 'atleta_scout.V', 'atleta_gato_mestre.scouts.media', 'atleta_gato_mestre.scouts.mandante', 'atleta_gato_mestre.scouts.visitante', 'atleta_gato_mestre.media_pontos_mandante', 'atleta_gato_mestre.media_pontos_visitante', 'atleta_gato_mestre.media_minutos_jogados', 'atleta_gato_mestre.minutos_jogados', 'atleta_scout.DE', 'atleta_scout.FS', 'atleta_scout.GS', 'atleta_scout.SG', 'atleta_scout.DS', 'atleta_scout.FC', 'atleta_scout.FD', 'atleta_scout.FF', 'atleta_scout.FT', 'atleta_scout.G', 'atleta_scout.I', 'atleta_scout.A', 'atleta_scout.CA', 'atleta_scout.CV', 'atleta_scout.PS', 'atleta_scout.PP', 'atleta_scout.PC', 'atleta_scout.DP', 'atleta_scout.GC', 'posicao_nome', 'posicao_abreviacao', 'clube_escudos', 'clube_nome', 'clube_abreviacao', 'clube_slug', 'clube_apelido', 'clube_nome_fantasia', 'clube_url_editoria', 'status_nome', 'aproveitamento_visitante_x', 'aproveitamento_mandante_x', 'local_x', 'status_transmissao_tr_x', 'status_cronometro_tr_x', 'periodo_tr_x', 'partida_data_x', 'inicio_cronometro_tr_x', 'placar_oficial_visitante_x', 'placar_oficial_mandante_x', 'partida_id_x', 'clube_visitante_posicao_x', 'clube_visitante_id_x', 'clube_casa_posicao_x', 'clube_casa_id_x', 'timestamp_x', 'campeonato_id_x', 'valida_x', 'transmissao.label_x', 'transmissao.url_x', 'casa_clube_escudos_x', 'casa_clube_nome_x', 'casa_clube_abreviacao_x', 'casa_clube_slug_x', 'casa_clube_apelido_x', 'casa_clube_nome_fantasia_x', 'casa_clube_id_x', 'casa_clube_url_editoria_x', 'visitante_clube_escudos_x', 'visitante_clube_nome_x', 'visitante_clube_abreviacao_x', 'visitante_clube_slug_x', 'visitante_clube_apelido_x', 'visitante_clube_nome_fantasia_x', 'visitante_clube_id_x', 'visitante_clube_url_editoria_x', 'confronto_slug_x', 'aproveitamento_visitante_y', 'aproveitamento_mandante_y', 'local_y', 'status_transmissao_tr_y', 'status_cronometro_tr_y', 'periodo_tr_y', 'partida_data_y', 'inicio_cronometro_tr_y', 'placar_oficial_visitante_y', 'placar_oficial_mandante_y', 'partida_id_y', 'clube_visitante_posicao_y', 'clube_visitante_id_y', 'clube_casa_posicao_y', 'clube_casa_id_y', 'timestamp_y', 'campeonato_id_y', 'valida_y', 'transmissao.label_y', 'transmissao.url_y', 'casa_clube_escudos_y', 'casa_clube_nome_y', 'casa_clube_abreviacao_y', 'casa_clube_slug_y', 'casa_clube_apelido_y', 'casa_clube_nome_fantasia_y', 'casa_clube_id_y', 'casa_clube_url_editoria_y', 'visitante_clube_escudos_y', 'visitante_clube_nome_y', 'visitante_clube_abreviacao_y', 'visitante_clube_slug_y', 'visitante_clube_apelido_y', 'visitante_clube_nome_fantasia_y', 'visitante_clube_id_y', 'visitante_clube_url_editoria_y', 'confronto_slug_y', 'confronto_slug']\n"
     ]
    }
   ],
   "source": [
    "print(df_filtrado.columns.tolist())"
   ]
  },
  {
   "cell_type": "code",
   "execution_count": 37,
   "id": "a75c74e0-87aa-4055-b07f-df0cc3dbc7b8",
   "metadata": {},
   "outputs": [
    {
     "name": "stdout",
     "output_type": "stream",
     "text": [
      "posicao_id\n",
      "1    3.529500\n",
      "2    3.893200\n",
      "3    3.059388\n",
      "4    2.802212\n",
      "5    3.580233\n",
      "6    5.016500\n",
      "Name: atleta_media_num, dtype: float64\n"
     ]
    }
   ],
   "source": [
    "# prompt: gere uma analises das medias de cada posicao_id onde a coluna atleta_media_num seja diferente de 0 e mostre a media de cada posicao\n",
    "\n",
    "# Create a new dataframe with only the relevant columns\n",
    "df_analise = df[['posicao_id', 'atleta_media_num','atleta_entrou_em_campo']]\n",
    "\n",
    "# Filter out rows where atleta_media_num is 0\n",
    "df_analise = df_analise[df_analise['atleta_entrou_em_campo'] == True]\n",
    "\n",
    "# Group the dataframe by posicao_id and calculate the mean of atleta_media_num\n",
    "medias_posicao = df_analise.groupby('posicao_id')['atleta_media_num'].mean()\n",
    "\n",
    "# Print the results\n",
    "print(medias_posicao)"
   ]
  },
  {
   "cell_type": "code",
   "execution_count": 38,
   "id": "e695f9b6-b25e-4711-a458-fe37067737e4",
   "metadata": {},
   "outputs": [
    {
     "name": "stdout",
     "output_type": "stream",
     "text": [
      "clube_abreviacao\n",
      "PAL    4.373529\n",
      "BOT    4.125882\n",
      "GRE    3.840588\n",
      "VAS    3.707500\n",
      "FOR    3.690000\n",
      "FLU    3.548824\n",
      "SAO    3.520588\n",
      "CRU    3.512353\n",
      "JUV    3.491765\n",
      "INT    3.438824\n",
      "CAP    3.410588\n",
      "FLA    3.268235\n",
      "BAH    3.217059\n",
      "COR    3.201250\n",
      "CAM    3.178824\n",
      "ACG    3.128235\n",
      "BGT    3.120588\n",
      "VIT    2.807059\n",
      "CUI    2.474706\n",
      "CRI    2.411176\n",
      "Name: atleta_media_num, dtype: float64\n"
     ]
    }
   ],
   "source": [
    "# prompt: gere uma media dos clubes usando a coluna clube_abreviacao a media devera ser o atleta_media_num diferente de 0 ordene pela media descendente\n",
    "\n",
    "# Create a new dataframe with only the relevant columns\n",
    "df_analise = df[['clube_abreviacao', 'atleta_media_num','atleta_entrou_em_campo']]\n",
    "\n",
    "# Filter out rows where atleta_media_num is 0\n",
    "df_analise = df_analise[df_analise['atleta_entrou_em_campo'] == True]\n",
    "\n",
    "# Group the dataframe by clube_abreviacao and calculate the mean of atleta_media_num\n",
    "medias_clube = df_analise.groupby('clube_abreviacao')['atleta_media_num'].mean()\n",
    "\n",
    "# Sort the results in descending order\n",
    "medias_clube = medias_clube.sort_values(ascending=False)\n",
    "\n",
    "# Print the results\n",
    "print(medias_clube)"
   ]
  },
  {
   "cell_type": "markdown",
   "id": "bb350676-4a7b-447c-8623-9d7c74ee46e9",
   "metadata": {},
   "source": [
    "# Estudos\n",
    "posicao_id | posicao_nome | posicao_abreviacao\r\n",
    "- | -| -\r\n",
    "1 | Goleiro | gol\r\n",
    "2 | Lateral | lat\r\n",
    "3 | Zagueiro | zag\r\n",
    "4 | Meia | mei\r\n",
    "5 | Atacante | ata\r\n",
    "6 | Técnico | tec"
   ]
  },
  {
   "cell_type": "markdown",
   "id": "2d676786-e02e-45ff-aa6a-51f6c3de1f4b",
   "metadata": {},
   "source": [
    "## Atacante"
   ]
  },
  {
   "cell_type": "code",
   "execution_count": 41,
   "id": "102b0938-e14f-4211-bc17-cb15ce8d7a9a",
   "metadata": {},
   "outputs": [
    {
     "name": "stdout",
     "output_type": "stream",
     "text": [
      "     atleta_apelido clube_abreviacao confronto_slug  atleta_media_num  \\\n",
      "35           Lucero              FOR      CAP X FOR              4.79   \n",
      "44          Soteldo              GRE      BGT X GRE              4.96   \n",
      "748         Luciano              SAO      CRU X SAO              5.64   \n",
      "687   Luiz Fernando              ACG      ACG X VIT              5.17   \n",
      "12   Bruno Henrique              FLA      FLA X VAS              5.26   \n",
      "752        Everaldo              BAH      BAH X CAM              4.59   \n",
      "19    Luiz Henrique              BOT      BOT X COR              5.16   \n",
      "529          Wesley              INT      INT X CUI              6.40   \n",
      "569     Breno Lopes              FOR      CAP X FOR              5.31   \n",
      "10          Vegetti              VAS      FLA X VAS              6.42   \n",
      "33      Flaco López              PAL      PAL X CRI              4.66   \n",
      "226           Serna              FLU      JUV X FLU              5.10   \n",
      "657      Alerrandro              VIT      ACG X VIT              5.23   \n",
      "428     Luiz Araújo              FLA      FLA X VAS              5.76   \n",
      "566   Lucas Barbosa              JUV      JUV X FLU              4.63   \n",
      "643        Canobbio              CAP      CAP X FOR              4.88   \n",
      "430           Pedro              FLA      FLA X VAS              7.90   \n",
      "522           Borré              INT      INT X CUI              6.15   \n",
      "225        Campbell              ACG      ACG X VIT              6.18   \n",
      "578         Estêvão              PAL      PAL X CRI              7.76   \n",
      "240     Braithwaite              GRE      BGT X GRE             11.13   \n",
      "187      Igor Jesus              BOT      BOT X COR              6.53   \n",
      "\n",
      "     atleta_apelido  atleta_pontos_num posicao_abreviacao  atleta_scout.G  \n",
      "35           Lucero                0.5                ata             7.0  \n",
      "44          Soteldo                0.5                ata             3.0  \n",
      "748         Luciano                0.8                ata             7.0  \n",
      "687   Luiz Fernando                1.5                ata             6.0  \n",
      "12   Bruno Henrique                2.2                ata             5.0  \n",
      "752        Everaldo                2.6                ata             6.0  \n",
      "19    Luiz Henrique                2.9                ata             4.0  \n",
      "529          Wesley                3.0                ata             5.0  \n",
      "569     Breno Lopes                3.5                ata             4.0  \n",
      "10          Vegetti                3.6                ata             8.0  \n",
      "33      Flaco López                4.4                ata             7.0  \n",
      "226           Serna                5.1                ata             1.0  \n",
      "657      Alerrandro                6.0                ata             5.0  \n",
      "428     Luiz Araújo                6.9                ata             3.0  \n",
      "566   Lucas Barbosa                7.6                ata             3.0  \n",
      "643        Canobbio                8.0                ata             3.0  \n",
      "430           Pedro                9.0                ata            11.0  \n",
      "522           Borré                9.6                ata             4.0  \n",
      "225        Campbell               10.4                ata             2.0  \n",
      "578         Estêvão               10.4                ata             8.0  \n",
      "240     Braithwaite               12.7                ata             3.0  \n",
      "187      Igor Jesus               19.4                ata             4.0  \n"
     ]
    }
   ],
   "source": [
    "import numpy as np\n",
    "colunas_relatorio = ['atleta_apelido','clube_abreviacao','confronto_slug','atleta_media_num','atleta_apelido','atleta_pontos_num', 'posicao_abreviacao', 'atleta_scout.G']\n",
    "posicao_id = 5 #atacante\n",
    "df_analise = df_filtrado[df_filtrado['posicao_id'] == posicao_id]\n",
    "medias_posicao = df_analise['atleta_media_num'].mean()\n",
    "df_analise['dif'] = df_analise['atleta_media_num'] - medias_posicao\n",
    "df_analise = df_analise[df_analise['atleta_pontos_num'] != 0]\n",
    "df_analise = df_analise[df_analise['atleta_media_num'] > medias_posicao]\n",
    "df_relatorio = df_analise[colunas_relatorio]\n",
    "df_relatorio = df_relatorio.sort_values(by=['atleta_pontos_num'])\n",
    "print(df_relatorio)"
   ]
  },
  {
   "cell_type": "markdown",
   "id": "b7d24f2d-9eb6-4bea-a9e4-df9def4cc4e7",
   "metadata": {},
   "source": [
    "## Meias"
   ]
  },
  {
   "cell_type": "code",
   "execution_count": 43,
   "id": "d9182077-ebaa-4c14-96af-33c45aaa7671",
   "metadata": {},
   "outputs": [
    {
     "name": "stdout",
     "output_type": "stream",
     "text": [
      "        atleta_apelido clube_abreviacao confronto_slug  atleta_media_num  \\\n",
      "585          Jhon Jhon              BGT      BGT X GRE              4.67   \n",
      "636    Mateus Carvalho              VAS      FLA X VAS              3.90   \n",
      "53         Lucas Moura              SAO      CRU X SAO              6.30   \n",
      "470       Yago Pikachu              FOR      CAP X FOR              3.46   \n",
      "377     Fellipe Mateus              CRI      PAL X CRI              3.87   \n",
      "479         Pochettino              FOR      CAP X FOR              5.17   \n",
      "632              Erick              CAP      CAP X FOR              3.93   \n",
      "55             Raniele              COR      BOT X COR              3.61   \n",
      "766         Jean Lucas              BAH      BAH X CAM              4.89   \n",
      "202           Monsalve              GRE      BGT X GRE              7.62   \n",
      "51     Everton Ribeiro              BAH      BAH X CAM              3.99   \n",
      "52          Villasanti              GRE      BGT X GRE              4.43   \n",
      "317             Gerson              FLA      FLA X VAS              4.07   \n",
      "36   Lucas Evangelista              BGT      BGT X GRE              3.71   \n",
      "455              Arias              FLU      JUV X FLU              6.41   \n",
      "195    Felipe Anderson              PAL      PAL X CRI              4.69   \n",
      "394    Matheus Pereira              CRU      CRU X SAO              6.00   \n",
      "641   Willian Oliveira              VIT      ACG X VIT              5.24   \n",
      "527            Gabriel              CAP      CAP X FOR              3.71   \n",
      "449              Ganso              FLU      JUV X FLU              3.59   \n",
      "249       Bruno Tabata              INT      INT X CUI              5.10   \n",
      "3                Payet              VAS      FLA X VAS              3.32   \n",
      "477        Lucas Sasha              FOR      CAP X FOR              3.57   \n",
      "159   Matheus Henrique              CRU      CRU X SAO              5.11   \n",
      "42           Cristaldo              GRE      BGT X GRE              4.50   \n",
      "528           Maurício              PAL      PAL X CRI              3.36   \n",
      "49               Garro              COR      BOT X COR              6.01   \n",
      "6       Gustavo Scarpa              CAM      BAH X CAM              6.42   \n",
      "\n",
      "        atleta_apelido  atleta_pontos_num posicao_abreviacao  atleta_scout.G  \n",
      "585          Jhon Jhon               -0.4                mei             1.0  \n",
      "636    Mateus Carvalho                0.1                mei             2.0  \n",
      "53         Lucas Moura                0.4                mei             5.0  \n",
      "470       Yago Pikachu                0.5                mei             2.0  \n",
      "377     Fellipe Mateus                0.5                mei             2.0  \n",
      "479         Pochettino                0.8                mei             4.0  \n",
      "632              Erick                1.2                mei             1.0  \n",
      "55             Raniele                1.2                mei             NaN  \n",
      "766         Jean Lucas                1.7                mei             2.0  \n",
      "202           Monsalve                2.2                mei             2.0  \n",
      "51     Everton Ribeiro                2.6                mei             1.0  \n",
      "52          Villasanti                2.6                mei             1.0  \n",
      "317             Gerson                3.7                mei             1.0  \n",
      "36   Lucas Evangelista                3.7                mei             2.0  \n",
      "455              Arias                3.8                mei             2.0  \n",
      "195    Felipe Anderson                4.0                mei             1.0  \n",
      "394    Matheus Pereira                4.5                mei             5.0  \n",
      "641   Willian Oliveira                5.2                mei             5.0  \n",
      "527            Gabriel                5.5                mei             1.0  \n",
      "449              Ganso                5.9                mei             3.0  \n",
      "249       Bruno Tabata                6.0                mei             NaN  \n",
      "3                Payet                6.7                mei             NaN  \n",
      "477        Lucas Sasha               10.6                mei             NaN  \n",
      "159   Matheus Henrique               11.4                mei             2.0  \n",
      "42           Cristaldo               12.0                mei             4.0  \n",
      "528           Maurício               14.4                mei             2.0  \n",
      "49               Garro               14.5                mei             3.0  \n",
      "6       Gustavo Scarpa               16.1                mei             4.0  \n"
     ]
    }
   ],
   "source": [
    "# prompt: quero obter do dataframe_filtrado todos os jogadores que possuem atleta_media_num acima da media da atleta _posicao_id onde o atleta_variacao seja < 0 ordene pela atleta_variacao_num\n",
    "\n",
    "posicao_id = 4 #meias\n",
    "df_analise = df_filtrado[df_filtrado['posicao_id'] == posicao_id]\n",
    "medias_posicao = df_analise['atleta_media_num'].mean()\n",
    "df_analise['dif'] = df_analise['atleta_media_num'] - medias_posicao\n",
    "df_analise = df_analise[df_analise['atleta_pontos_num'] != 0]\n",
    "df_analise = df_analise[df_analise['atleta_media_num'] > medias_posicao]\n",
    "df_relatorio = df_analise[colunas_relatorio]\n",
    "df_relatorio = df_relatorio.sort_values(by=['atleta_pontos_num'])\n",
    "print(df_relatorio)"
   ]
  },
  {
   "cell_type": "markdown",
   "id": "510b2331-7b26-4b1e-81f4-ede2baad5b18",
   "metadata": {},
   "source": [
    "## Zagueiros"
   ]
  },
  {
   "cell_type": "code",
   "execution_count": 45,
   "id": "583690c3-7efb-4726-9a3b-eb872eb38a21",
   "metadata": {},
   "outputs": [
    {
     "name": "stdout",
     "output_type": "stream",
     "text": [
      "        atleta_apelido clube_abreviacao confronto_slug  atleta_media_num  \\\n",
      "486            Cardona              FOR      CAP X FOR              3.30   \n",
      "191      Junior Alonso              CAM      BAH X CAM              4.17   \n",
      "393          Zé Ivaldo              CRU      CRU X SAO              3.82   \n",
      "399       João Marcelo              CRU      CRU X SAO              3.73   \n",
      "551        Danilo Boza              JUV      JUV X FLU              3.27   \n",
      "658    Wagner Leonardo              VIT      ACG X VIT              3.17   \n",
      "481           Kuscevic              FOR      CAP X FOR              3.61   \n",
      "307             Bastos              BOT      BOT X COR              3.97   \n",
      "586           Arboleda              SAO      CRU X SAO              4.11   \n",
      "770     Gabriel Xavier              BAH      BAH X CAM              3.61   \n",
      "30              Murilo              PAL      PAL X CRI              3.82   \n",
      "132       Thiago Silva              FLU      JUV X FLU              5.94   \n",
      "32       Gustavo Gómez              PAL      PAL X CRI              3.89   \n",
      "308  Alexander Barboza              BOT      BOT X COR              3.58   \n",
      "\n",
      "        atleta_apelido  atleta_pontos_num posicao_abreviacao  atleta_scout.G  \n",
      "486            Cardona               -2.2                zag             NaN  \n",
      "191      Junior Alonso                0.2                zag             1.0  \n",
      "393          Zé Ivaldo                0.3                zag             NaN  \n",
      "399       João Marcelo                0.9                zag             NaN  \n",
      "551        Danilo Boza                1.2                zag             2.0  \n",
      "658    Wagner Leonardo                2.4                zag             3.0  \n",
      "481           Kuscevic                2.8                zag             1.0  \n",
      "307             Bastos                3.1                zag             3.0  \n",
      "586           Arboleda                4.1                zag             1.0  \n",
      "770     Gabriel Xavier                4.1                zag             NaN  \n",
      "30              Murilo                5.5                zag             1.0  \n",
      "132       Thiago Silva                6.9                zag             NaN  \n",
      "32       Gustavo Gómez                7.0                zag             1.0  \n",
      "308  Alexander Barboza               14.8                zag             NaN  \n"
     ]
    }
   ],
   "source": [
    "posicao_id = 3 #zagueiros\n",
    "df_analise = df_filtrado[df_filtrado['posicao_id'] == posicao_id]\n",
    "medias_posicao = df_analise['atleta_media_num'].mean()\n",
    "df_analise['dif'] = df_analise['atleta_media_num'] - medias_posicao\n",
    "df_analise = df_analise[df_analise['atleta_pontos_num'] != 0]\n",
    "df_analise = df_analise[df_analise['atleta_media_num'] > medias_posicao]\n",
    "df_relatorio = df_analise[colunas_relatorio]\n",
    "df_relatorio = df_relatorio.sort_values(by=['atleta_pontos_num'])\n",
    "print(df_relatorio)"
   ]
  },
  {
   "cell_type": "markdown",
   "id": "94fa6722-d1f3-4a78-9eea-532202cff2f9",
   "metadata": {},
   "source": [
    "## Lateral"
   ]
  },
  {
   "cell_type": "markdown",
   "id": "6ae0bcd5-b39f-4ab5-bd16-96e6979c1373",
   "metadata": {},
   "source": [
    "posicao_id = 2 #laterais\n",
    "df_analise = df_filtrado[df_filtrado['posicao_id'] == posicao_id]\n",
    "medias_posicao = df_analise['atleta_media_num'].mean()\n",
    "df_analise['dif'] = df_analise['atleta_media_num'] - medias_posicao\n",
    "df_analise = df_analise[df_analise['atleta_pontos_num'] != 0]\n",
    "df_analise = df_analise[df_analise['atleta_media_num'] > medias_posicao]\n",
    "df_relatorio = df_analise[colunas_relatorio]\n",
    "df_relatorio = df_relatorio.sort_values(by=['atleta_pontos_num'])\n",
    "print(df_relatorio)"
   ]
  },
  {
   "cell_type": "markdown",
   "id": "a6f647ae-c152-46f7-b0d2-ed54f5c3b345",
   "metadata": {},
   "source": [
    "## Goleiro"
   ]
  },
  {
   "cell_type": "code",
   "execution_count": 49,
   "id": "b5329925-477c-41ef-a2a0-360b53efe9be",
   "metadata": {},
   "outputs": [
    {
     "name": "stdout",
     "output_type": "stream",
     "text": [
      "    atleta_apelido clube_abreviacao confronto_slug  atleta_media_num  \\\n",
      "338         Cássio              CRU      CRU X SAO              5.05   \n",
      "762  Marcos Felipe              BAH      BAH X CAM              4.00   \n",
      "171     Hugo Souza              COR      BOT X COR              3.74   \n",
      "472   João Ricardo              FOR      CAP X FOR              5.08   \n",
      "328        Cleiton              BGT      BGT X GRE              3.68   \n",
      "610           John              BOT      BOT X COR              4.06   \n",
      "490      Marchesín              GRE      BGT X GRE              4.28   \n",
      "442          Fábio              FLU      JUV X FLU              4.43   \n",
      "1       Léo Jardim              VAS      FLA X VAS              3.87   \n",
      "556       Weverton              PAL      PAL X CRI              5.40   \n",
      "\n",
      "    atleta_apelido  atleta_pontos_num posicao_abreviacao  atleta_scout.G  \n",
      "338         Cássio                1.0                gol             NaN  \n",
      "762  Marcos Felipe                1.0                gol             NaN  \n",
      "171     Hugo Souza                2.2                gol             NaN  \n",
      "472   João Ricardo                3.0                gol             NaN  \n",
      "328        Cleiton                5.0                gol             NaN  \n",
      "610           John                6.0                gol             NaN  \n",
      "490      Marchesín                6.5                gol             NaN  \n",
      "442          Fábio                8.0                gol             NaN  \n",
      "1       Léo Jardim               10.0                gol             NaN  \n",
      "556       Weverton               14.5                gol             NaN  \n"
     ]
    }
   ],
   "source": [
    "posicao_id = 1 #goleiros\n",
    "df_analise = df_filtrado[df_filtrado['posicao_id'] == posicao_id]\n",
    "medias_posicao = df_analise['atleta_media_num'].mean()\n",
    "df_analise['dif'] = df_analise['atleta_media_num'] - medias_posicao\n",
    "df_analise = df_analise[df_analise['atleta_pontos_num'] != 0]\n",
    "df_analise = df_analise[df_analise['atleta_media_num'] > medias_posicao]\n",
    "df_relatorio = df_analise[colunas_relatorio]\n",
    "df_relatorio = df_relatorio.sort_values(by=['atleta_pontos_num'])\n",
    "print(df_relatorio)"
   ]
  },
  {
   "cell_type": "markdown",
   "id": "07eaa7d4-d9d8-42c5-9fb9-d2444c6e2714",
   "metadata": {},
   "source": [
    "## Técnicos"
   ]
  },
  {
   "cell_type": "code",
   "execution_count": 51,
   "id": "66b7690b-3611-4e4b-abb5-2ab8f0f5a700",
   "metadata": {},
   "outputs": [
    {
     "name": "stdout",
     "output_type": "stream",
     "text": [
      "      atleta_apelido clube_abreviacao confronto_slug  atleta_media_num  \\\n",
      "117    Luis Zubeldía              SAO      CRU X SAO              5.06   \n",
      "424             Tite              FLA      FLA X VAS              5.53   \n",
      "483     Juan Vojvoda              FOR      CAP X FOR              5.40   \n",
      "279  Bernardo Franco              CUI      INT X CUI              5.38   \n",
      "88   Fernando Seabra              CRU      CRU X SAO              5.36   \n",
      "129     Rafael Paiva              VAS      FLA X VAS              5.87   \n",
      "168     Mano Menezes              FLU      JUV X FLU              5.85   \n",
      "70       Artur Jorge              BOT      BOT X COR              5.77   \n",
      "574    Abel Ferreira              PAL      PAL X CRI              6.32   \n",
      "\n",
      "      atleta_apelido  atleta_pontos_num posicao_abreviacao  atleta_scout.G  \n",
      "117    Luis Zubeldía               2.04                tec             NaN  \n",
      "424             Tite               2.45                tec             NaN  \n",
      "483     Juan Vojvoda               2.75                tec             NaN  \n",
      "279  Bernardo Franco               5.38                tec             NaN  \n",
      "88   Fernando Seabra               6.52                tec             NaN  \n",
      "129     Rafael Paiva               8.29                tec             NaN  \n",
      "168     Mano Menezes               8.75                tec             NaN  \n",
      "70       Artur Jorge               8.77                tec             NaN  \n",
      "574    Abel Ferreira              10.55                tec             NaN  \n"
     ]
    }
   ],
   "source": [
    "posicao_id = 6 #tecnicos\n",
    "df_analise = df_filtrado[df_filtrado['posicao_id'] == posicao_id]\n",
    "medias_posicao = df_analise['atleta_media_num'].mean()\n",
    "df_analise['dif'] = df_analise['atleta_media_num'] - medias_posicao\n",
    "df_analise = df_analise[df_analise['atleta_pontos_num'] != 0]\n",
    "df_analise = df_analise[df_analise['atleta_media_num'] > medias_posicao]\n",
    "df_relatorio = df_analise[colunas_relatorio]\n",
    "df_relatorio = df_relatorio.sort_values(by=['atleta_pontos_num'])\n",
    "print(df_relatorio)"
   ]
  },
  {
   "cell_type": "code",
   "execution_count": null,
   "id": "e69113fb-de37-4807-955a-b4b12e66cabc",
   "metadata": {},
   "outputs": [],
   "source": []
  }
 ],
 "metadata": {
  "kernelspec": {
   "display_name": "Python 3 (ipykernel)",
   "language": "python",
   "name": "python3"
  },
  "language_info": {
   "codemirror_mode": {
    "name": "ipython",
    "version": 3
   },
   "file_extension": ".py",
   "mimetype": "text/x-python",
   "name": "python",
   "nbconvert_exporter": "python",
   "pygments_lexer": "ipython3",
   "version": "3.12.4"
  }
 },
 "nbformat": 4,
 "nbformat_minor": 5
}
